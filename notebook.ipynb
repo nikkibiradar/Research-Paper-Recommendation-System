{
 "cells": [
  {
   "cell_type": "code",
   "execution_count": 1,
   "metadata": {},
   "outputs": [],
   "source": [
    "import warnings\n",
    "warnings.filterwarnings('ignore')\n",
    "\n",
    "import json\n",
    "import pandas as pd\n",
    "import numpy as np\n",
    "import matplotlib.pyplot as plt\n",
    "import dill\n",
    "import tensorflow as tf\n",
    "import tensorflow_hub as hub\n",
    "from sklearn.neighbors import KNeighborsClassifier\n",
    "\n",
    "plt.rcParams['figure.figsize'] = (8,5)\n",
    "plt.rcParams['font.size'] = 14"
   ]
  },
  {
   "cell_type": "code",
   "execution_count": 2,
   "metadata": {},
   "outputs": [],
   "source": [
    "file = \"arxiv-metadata-oai-snapshot.json\"\n",
    "def get_data():\n",
    "    with open(file) as f:\n",
    "        for line in f:\n",
    "            yield line"
   ]
  },
  {
   "cell_type": "code",
   "execution_count": 3,
   "metadata": {},
   "outputs": [],
   "source": [
    "dataframe = {\n",
    "    'title': [],\n",
    "    'year': [],\n",
    "    'abstract': []\n",
    "}\n",
    "\n",
    "data = get_data()\n",
    "for i, paper in enumerate(data):\n",
    "    paper = json.loads(paper)\n",
    "    try:\n",
    "        date = int(paper['update_date'].split('-')[0])\n",
    "        if date > 2019:\n",
    "            dataframe['title'].append(paper['title'])\n",
    "            dataframe['year'].append(date)\n",
    "            dataframe['abstract'].append(paper['abstract'])\n",
    "    except: pass"
   ]
  },
  {
   "cell_type": "code",
   "execution_count": 4,
   "metadata": {},
   "outputs": [
    {
     "data": {
      "text/html": [
       "<div>\n",
       "<style scoped>\n",
       "    .dataframe tbody tr th:only-of-type {\n",
       "        vertical-align: middle;\n",
       "    }\n",
       "\n",
       "    .dataframe tbody tr th {\n",
       "        vertical-align: top;\n",
       "    }\n",
       "\n",
       "    .dataframe thead th {\n",
       "        text-align: right;\n",
       "    }\n",
       "</style>\n",
       "<table border=\"1\" class=\"dataframe\">\n",
       "  <thead>\n",
       "    <tr style=\"text-align: right;\">\n",
       "      <th></th>\n",
       "      <th>title</th>\n",
       "      <th>year</th>\n",
       "      <th>abstract</th>\n",
       "    </tr>\n",
       "  </thead>\n",
       "  <tbody>\n",
       "    <tr>\n",
       "      <th>0</th>\n",
       "      <td>Convergence of the discrete dipole approximati...</td>\n",
       "      <td>2022</td>\n",
       "      <td>We performed a rigorous theoretical converge...</td>\n",
       "    </tr>\n",
       "    <tr>\n",
       "      <th>1</th>\n",
       "      <td>The discrete dipole approximation: an overview...</td>\n",
       "      <td>2022</td>\n",
       "      <td>We present a review of the discrete dipole a...</td>\n",
       "    </tr>\n",
       "    <tr>\n",
       "      <th>2</th>\n",
       "      <td>Mapping radii of metric spaces</td>\n",
       "      <td>2021</td>\n",
       "      <td>It is known that every closed curve of lengt...</td>\n",
       "    </tr>\n",
       "    <tr>\n",
       "      <th>3</th>\n",
       "      <td>What can emission lines tell us?</td>\n",
       "      <td>2023</td>\n",
       "      <td>1 Generalities\\n  2 Empirical diagnostics ba...</td>\n",
       "    </tr>\n",
       "    <tr>\n",
       "      <th>4</th>\n",
       "      <td>The affine part of the Picard scheme</td>\n",
       "      <td>2021</td>\n",
       "      <td>We describe the maximal torus and maximal un...</td>\n",
       "    </tr>\n",
       "    <tr>\n",
       "      <th>5</th>\n",
       "      <td>Manifolds admitting a $\\tilde G_2$-structure</td>\n",
       "      <td>2023</td>\n",
       "      <td>We find a necessary and sufficient condition...</td>\n",
       "    </tr>\n",
       "    <tr>\n",
       "      <th>6</th>\n",
       "      <td>Actions for the Bosonic String with the Curved...</td>\n",
       "      <td>2020</td>\n",
       "      <td>At first we introduce an action for the stri...</td>\n",
       "    </tr>\n",
       "    <tr>\n",
       "      <th>7</th>\n",
       "      <td>Stochastic action principle and maximum entropy</td>\n",
       "      <td>2020</td>\n",
       "      <td>A stochastic action principle for stochastic...</td>\n",
       "    </tr>\n",
       "    <tr>\n",
       "      <th>8</th>\n",
       "      <td>Axiom A polynomial skew products of C^2 and th...</td>\n",
       "      <td>2023</td>\n",
       "      <td>A polynomial skew product of C^2 is a map of...</td>\n",
       "    </tr>\n",
       "    <tr>\n",
       "      <th>9</th>\n",
       "      <td>Depletion effects in smectic phases of hard ro...</td>\n",
       "      <td>2022</td>\n",
       "      <td>It is known that when hard spheres are added...</td>\n",
       "    </tr>\n",
       "  </tbody>\n",
       "</table>\n",
       "</div>"
      ],
      "text/plain": [
       "                                               title  year  \\\n",
       "0  Convergence of the discrete dipole approximati...  2022   \n",
       "1  The discrete dipole approximation: an overview...  2022   \n",
       "2                     Mapping radii of metric spaces  2021   \n",
       "3                   What can emission lines tell us?  2023   \n",
       "4               The affine part of the Picard scheme  2021   \n",
       "5       Manifolds admitting a $\\tilde G_2$-structure  2023   \n",
       "6  Actions for the Bosonic String with the Curved...  2020   \n",
       "7    Stochastic action principle and maximum entropy  2020   \n",
       "8  Axiom A polynomial skew products of C^2 and th...  2023   \n",
       "9  Depletion effects in smectic phases of hard ro...  2022   \n",
       "\n",
       "                                            abstract  \n",
       "0    We performed a rigorous theoretical converge...  \n",
       "1    We present a review of the discrete dipole a...  \n",
       "2    It is known that every closed curve of lengt...  \n",
       "3    1 Generalities\\n  2 Empirical diagnostics ba...  \n",
       "4    We describe the maximal torus and maximal un...  \n",
       "5    We find a necessary and sufficient condition...  \n",
       "6    At first we introduce an action for the stri...  \n",
       "7    A stochastic action principle for stochastic...  \n",
       "8    A polynomial skew product of C^2 is a map of...  \n",
       "9    It is known that when hard spheres are added...  "
      ]
     },
     "execution_count": 4,
     "metadata": {},
     "output_type": "execute_result"
    }
   ],
   "source": [
    "df = pd.DataFrame(dataframe)\n",
    "df.head(10)"
   ]
  },
  {
   "cell_type": "code",
   "execution_count": 5,
   "metadata": {},
   "outputs": [
    {
     "name": "stdout",
     "output_type": "stream",
     "text": [
      "Samples: 817256\n",
      "Features: 3\n"
     ]
    }
   ],
   "source": [
    "del dataframe\n",
    "print(f\"Samples: {df.shape[0]}\\nFeatures: {df.shape[1]}\")"
   ]
  },
  {
   "cell_type": "code",
   "execution_count": 6,
   "metadata": {},
   "outputs": [
    {
     "name": "stdout",
     "output_type": "stream",
     "text": [
      "<class 'pandas.core.frame.DataFrame'>\n",
      "RangeIndex: 817256 entries, 0 to 817255\n",
      "Data columns (total 3 columns):\n",
      " #   Column    Non-Null Count   Dtype \n",
      "---  ------    --------------   ----- \n",
      " 0   title     817256 non-null  object\n",
      " 1   year      817256 non-null  int64 \n",
      " 2   abstract  817256 non-null  object\n",
      "dtypes: int64(1), object(2)\n",
      "memory usage: 18.7+ MB\n"
     ]
    }
   ],
   "source": [
    "any(df.isna().sum())\n",
    "df.info()"
   ]
  },
  {
   "cell_type": "code",
   "execution_count": 7,
   "metadata": {},
   "outputs": [
    {
     "data": {
      "text/html": [
       "<div>\n",
       "<style scoped>\n",
       "    .dataframe tbody tr th:only-of-type {\n",
       "        vertical-align: middle;\n",
       "    }\n",
       "\n",
       "    .dataframe tbody tr th {\n",
       "        vertical-align: top;\n",
       "    }\n",
       "\n",
       "    .dataframe thead th {\n",
       "        text-align: right;\n",
       "    }\n",
       "</style>\n",
       "<table border=\"1\" class=\"dataframe\">\n",
       "  <thead>\n",
       "    <tr style=\"text-align: right;\">\n",
       "      <th></th>\n",
       "      <th>title</th>\n",
       "      <th>year</th>\n",
       "      <th>abstract</th>\n",
       "      <th>length</th>\n",
       "    </tr>\n",
       "  </thead>\n",
       "  <tbody>\n",
       "    <tr>\n",
       "      <th>0</th>\n",
       "      <td>Convergence of the discrete dipole approximati...</td>\n",
       "      <td>2022</td>\n",
       "      <td>We performed a rigorous theoretical converge...</td>\n",
       "      <td>832</td>\n",
       "    </tr>\n",
       "    <tr>\n",
       "      <th>1</th>\n",
       "      <td>The discrete dipole approximation: an overview...</td>\n",
       "      <td>2022</td>\n",
       "      <td>We present a review of the discrete dipole a...</td>\n",
       "      <td>617</td>\n",
       "    </tr>\n",
       "    <tr>\n",
       "      <th>2</th>\n",
       "      <td>Mapping radii of metric spaces</td>\n",
       "      <td>2021</td>\n",
       "      <td>It is known that every closed curve of lengt...</td>\n",
       "      <td>737</td>\n",
       "    </tr>\n",
       "    <tr>\n",
       "      <th>3</th>\n",
       "      <td>What can emission lines tell us?</td>\n",
       "      <td>2023</td>\n",
       "      <td>1 Generalities\\n  2 Empirical diagnostics ba...</td>\n",
       "      <td>181</td>\n",
       "    </tr>\n",
       "    <tr>\n",
       "      <th>4</th>\n",
       "      <td>The affine part of the Picard scheme</td>\n",
       "      <td>2021</td>\n",
       "      <td>We describe the maximal torus and maximal un...</td>\n",
       "      <td>126</td>\n",
       "    </tr>\n",
       "    <tr>\n",
       "      <th>5</th>\n",
       "      <td>Manifolds admitting a $\\tilde G_2$-structure</td>\n",
       "      <td>2023</td>\n",
       "      <td>We find a necessary and sufficient condition...</td>\n",
       "      <td>220</td>\n",
       "    </tr>\n",
       "    <tr>\n",
       "      <th>6</th>\n",
       "      <td>Actions for the Bosonic String with the Curved...</td>\n",
       "      <td>2020</td>\n",
       "      <td>At first we introduce an action for the stri...</td>\n",
       "      <td>414</td>\n",
       "    </tr>\n",
       "    <tr>\n",
       "      <th>7</th>\n",
       "      <td>Stochastic action principle and maximum entropy</td>\n",
       "      <td>2020</td>\n",
       "      <td>A stochastic action principle for stochastic...</td>\n",
       "      <td>770</td>\n",
       "    </tr>\n",
       "    <tr>\n",
       "      <th>8</th>\n",
       "      <td>Axiom A polynomial skew products of C^2 and th...</td>\n",
       "      <td>2023</td>\n",
       "      <td>A polynomial skew product of C^2 is a map of...</td>\n",
       "      <td>784</td>\n",
       "    </tr>\n",
       "    <tr>\n",
       "      <th>9</th>\n",
       "      <td>Depletion effects in smectic phases of hard ro...</td>\n",
       "      <td>2022</td>\n",
       "      <td>It is known that when hard spheres are added...</td>\n",
       "      <td>1808</td>\n",
       "    </tr>\n",
       "  </tbody>\n",
       "</table>\n",
       "</div>"
      ],
      "text/plain": [
       "                                               title  year  \\\n",
       "0  Convergence of the discrete dipole approximati...  2022   \n",
       "1  The discrete dipole approximation: an overview...  2022   \n",
       "2                     Mapping radii of metric spaces  2021   \n",
       "3                   What can emission lines tell us?  2023   \n",
       "4               The affine part of the Picard scheme  2021   \n",
       "5       Manifolds admitting a $\\tilde G_2$-structure  2023   \n",
       "6  Actions for the Bosonic String with the Curved...  2020   \n",
       "7    Stochastic action principle and maximum entropy  2020   \n",
       "8  Axiom A polynomial skew products of C^2 and th...  2023   \n",
       "9  Depletion effects in smectic phases of hard ro...  2022   \n",
       "\n",
       "                                            abstract  length  \n",
       "0    We performed a rigorous theoretical converge...     832  \n",
       "1    We present a review of the discrete dipole a...     617  \n",
       "2    It is known that every closed curve of lengt...     737  \n",
       "3    1 Generalities\\n  2 Empirical diagnostics ba...     181  \n",
       "4    We describe the maximal torus and maximal un...     126  \n",
       "5    We find a necessary and sufficient condition...     220  \n",
       "6    At first we introduce an action for the stri...     414  \n",
       "7    A stochastic action principle for stochastic...     770  \n",
       "8    A polynomial skew product of C^2 is a map of...     784  \n",
       "9    It is known that when hard spheres are added...    1808  "
      ]
     },
     "execution_count": 7,
     "metadata": {},
     "output_type": "execute_result"
    }
   ],
   "source": [
    "df['length'] = df['abstract'].str.len()\n",
    "df.head(10)"
   ]
  },
  {
   "cell_type": "code",
   "execution_count": 8,
   "metadata": {},
   "outputs": [
    {
     "data": {
      "text/html": [
       "<div>\n",
       "<style scoped>\n",
       "    .dataframe tbody tr th:only-of-type {\n",
       "        vertical-align: middle;\n",
       "    }\n",
       "\n",
       "    .dataframe tbody tr th {\n",
       "        vertical-align: top;\n",
       "    }\n",
       "\n",
       "    .dataframe thead th {\n",
       "        text-align: right;\n",
       "    }\n",
       "</style>\n",
       "<table border=\"1\" class=\"dataframe\">\n",
       "  <thead>\n",
       "    <tr style=\"text-align: right;\">\n",
       "      <th></th>\n",
       "      <th>title</th>\n",
       "      <th>year</th>\n",
       "      <th>abstract</th>\n",
       "      <th>length</th>\n",
       "      <th>word_count</th>\n",
       "    </tr>\n",
       "  </thead>\n",
       "  <tbody>\n",
       "    <tr>\n",
       "      <th>0</th>\n",
       "      <td>Convergence of the discrete dipole approximati...</td>\n",
       "      <td>2022</td>\n",
       "      <td>We performed a rigorous theoretical converge...</td>\n",
       "      <td>832</td>\n",
       "      <td>133</td>\n",
       "    </tr>\n",
       "    <tr>\n",
       "      <th>1</th>\n",
       "      <td>The discrete dipole approximation: an overview...</td>\n",
       "      <td>2022</td>\n",
       "      <td>We present a review of the discrete dipole a...</td>\n",
       "      <td>617</td>\n",
       "      <td>96</td>\n",
       "    </tr>\n",
       "    <tr>\n",
       "      <th>2</th>\n",
       "      <td>Mapping radii of metric spaces</td>\n",
       "      <td>2021</td>\n",
       "      <td>It is known that every closed curve of lengt...</td>\n",
       "      <td>737</td>\n",
       "      <td>138</td>\n",
       "    </tr>\n",
       "    <tr>\n",
       "      <th>3</th>\n",
       "      <td>What can emission lines tell us?</td>\n",
       "      <td>2023</td>\n",
       "      <td>1 Generalities\\n  2 Empirical diagnostics ba...</td>\n",
       "      <td>181</td>\n",
       "      <td>27</td>\n",
       "    </tr>\n",
       "    <tr>\n",
       "      <th>4</th>\n",
       "      <td>The affine part of the Picard scheme</td>\n",
       "      <td>2021</td>\n",
       "      <td>We describe the maximal torus and maximal un...</td>\n",
       "      <td>126</td>\n",
       "      <td>21</td>\n",
       "    </tr>\n",
       "  </tbody>\n",
       "</table>\n",
       "</div>"
      ],
      "text/plain": [
       "                                               title  year  \\\n",
       "0  Convergence of the discrete dipole approximati...  2022   \n",
       "1  The discrete dipole approximation: an overview...  2022   \n",
       "2                     Mapping radii of metric spaces  2021   \n",
       "3                   What can emission lines tell us?  2023   \n",
       "4               The affine part of the Picard scheme  2021   \n",
       "\n",
       "                                            abstract  length  word_count  \n",
       "0    We performed a rigorous theoretical converge...     832         133  \n",
       "1    We present a review of the discrete dipole a...     617          96  \n",
       "2    It is known that every closed curve of lengt...     737         138  \n",
       "3    1 Generalities\\n  2 Empirical diagnostics ba...     181          27  \n",
       "4    We describe the maximal torus and maximal un...     126          21  "
      ]
     },
     "execution_count": 8,
     "metadata": {},
     "output_type": "execute_result"
    }
   ],
   "source": [
    "def word_count(x):\n",
    "    return len(x.split())\n",
    "\n",
    "df['word_count'] = df['abstract'].apply(word_count)\n",
    "df.head()"
   ]
  },
  {
   "cell_type": "code",
   "execution_count": 9,
   "metadata": {},
   "outputs": [
    {
     "name": "stdout",
     "output_type": "stream",
     "text": [
      "Mean of Word Count: 156.50\n",
      "Median of Word Count: 154.0\n"
     ]
    }
   ],
   "source": [
    "print(f\"Mean of Word Count: {df['word_count'].mean():.2f}\\nMedian of Word Count: {df['word_count'].median()}\")"
   ]
  },
  {
   "cell_type": "code",
   "execution_count": 10,
   "metadata": {},
   "outputs": [],
   "source": [
    "df['processed abstracts'] = pd.read_csv('processed abstracts.csv')"
   ]
  },
  {
   "cell_type": "code",
   "execution_count": 11,
   "metadata": {},
   "outputs": [
    {
     "data": {
      "text/html": [
       "<div>\n",
       "<style scoped>\n",
       "    .dataframe tbody tr th:only-of-type {\n",
       "        vertical-align: middle;\n",
       "    }\n",
       "\n",
       "    .dataframe tbody tr th {\n",
       "        vertical-align: top;\n",
       "    }\n",
       "\n",
       "    .dataframe thead th {\n",
       "        text-align: right;\n",
       "    }\n",
       "</style>\n",
       "<table border=\"1\" class=\"dataframe\">\n",
       "  <thead>\n",
       "    <tr style=\"text-align: right;\">\n",
       "      <th></th>\n",
       "      <th>title</th>\n",
       "      <th>year</th>\n",
       "      <th>abstract</th>\n",
       "      <th>length</th>\n",
       "      <th>word_count</th>\n",
       "      <th>processed abstracts</th>\n",
       "    </tr>\n",
       "  </thead>\n",
       "  <tbody>\n",
       "    <tr>\n",
       "      <th>0</th>\n",
       "      <td>Convergence of the discrete dipole approximati...</td>\n",
       "      <td>2022</td>\n",
       "      <td>We performed a rigorous theoretical converge...</td>\n",
       "      <td>832</td>\n",
       "      <td>133</td>\n",
       "      <td>perform rigorous theoretical convergence analy...</td>\n",
       "    </tr>\n",
       "    <tr>\n",
       "      <th>1</th>\n",
       "      <td>The discrete dipole approximation: an overview...</td>\n",
       "      <td>2022</td>\n",
       "      <td>We present a review of the discrete dipole a...</td>\n",
       "      <td>617</td>\n",
       "      <td>96</td>\n",
       "      <td>present review discrete dipole approximation d...</td>\n",
       "    </tr>\n",
       "    <tr>\n",
       "      <th>2</th>\n",
       "      <td>Mapping radii of metric spaces</td>\n",
       "      <td>2021</td>\n",
       "      <td>It is known that every closed curve of lengt...</td>\n",
       "      <td>737</td>\n",
       "      <td>138</td>\n",
       "      <td>know closed curve length \\leq 4 r^n n&gt;0 surrou...</td>\n",
       "    </tr>\n",
       "    <tr>\n",
       "      <th>3</th>\n",
       "      <td>What can emission lines tell us?</td>\n",
       "      <td>2023</td>\n",
       "      <td>1 Generalities\\n  2 Empirical diagnostics ba...</td>\n",
       "      <td>181</td>\n",
       "      <td>27</td>\n",
       "      <td>1 generality 2 empirical diagnostic base emiss...</td>\n",
       "    </tr>\n",
       "    <tr>\n",
       "      <th>4</th>\n",
       "      <td>The affine part of the Picard scheme</td>\n",
       "      <td>2021</td>\n",
       "      <td>We describe the maximal torus and maximal un...</td>\n",
       "      <td>126</td>\n",
       "      <td>21</td>\n",
       "      <td>describe maximal torus maximal unipotent subgr...</td>\n",
       "    </tr>\n",
       "    <tr>\n",
       "      <th>...</th>\n",
       "      <td>...</td>\n",
       "      <td>...</td>\n",
       "      <td>...</td>\n",
       "      <td>...</td>\n",
       "      <td>...</td>\n",
       "      <td>...</td>\n",
       "    </tr>\n",
       "    <tr>\n",
       "      <th>817251</th>\n",
       "      <td>The Hamiltonian structure of the dispersionles...</td>\n",
       "      <td>2020</td>\n",
       "      <td>The Hamiltonian structure of the two-dimensi...</td>\n",
       "      <td>436</td>\n",
       "      <td>65</td>\n",
       "      <td>hamiltonian structure two-dimensional dispersi...</td>\n",
       "    </tr>\n",
       "    <tr>\n",
       "      <th>817252</th>\n",
       "      <td>DNA Transcription Mechanism with a Moving Enzyme</td>\n",
       "      <td>2021</td>\n",
       "      <td>Previous numerical investigations of an one-...</td>\n",
       "      <td>510</td>\n",
       "      <td>69</td>\n",
       "      <td>previous numerical investigation one-dimension...</td>\n",
       "    </tr>\n",
       "    <tr>\n",
       "      <th>817253</th>\n",
       "      <td>Degenerate Frobenius manifolds and the bi-Hami...</td>\n",
       "      <td>2020</td>\n",
       "      <td>The bi-Hamiltonian structure of certain mult...</td>\n",
       "      <td>717</td>\n",
       "      <td>101</td>\n",
       "      <td>bi-hamiltonian structure certain multi-compone...</td>\n",
       "    </tr>\n",
       "    <tr>\n",
       "      <th>817254</th>\n",
       "      <td>Hypercomplex Integrable Systems</td>\n",
       "      <td>2020</td>\n",
       "      <td>In this paper we study hypercomplex manifold...</td>\n",
       "      <td>658</td>\n",
       "      <td>99</td>\n",
       "      <td>paper study hypercomplex manifold dimension us...</td>\n",
       "    </tr>\n",
       "    <tr>\n",
       "      <th>817255</th>\n",
       "      <td>Nonlinear Flux Diffusion and ac Susceptibility...</td>\n",
       "      <td>2022</td>\n",
       "      <td>The ac response of a slab of material with e...</td>\n",
       "      <td>930</td>\n",
       "      <td>139</td>\n",
       "      <td>ac response slab material electrodynamic chara...</td>\n",
       "    </tr>\n",
       "  </tbody>\n",
       "</table>\n",
       "<p>817256 rows × 6 columns</p>\n",
       "</div>"
      ],
      "text/plain": [
       "                                                    title  year  \\\n",
       "0       Convergence of the discrete dipole approximati...  2022   \n",
       "1       The discrete dipole approximation: an overview...  2022   \n",
       "2                          Mapping radii of metric spaces  2021   \n",
       "3                        What can emission lines tell us?  2023   \n",
       "4                    The affine part of the Picard scheme  2021   \n",
       "...                                                   ...   ...   \n",
       "817251  The Hamiltonian structure of the dispersionles...  2020   \n",
       "817252   DNA Transcription Mechanism with a Moving Enzyme  2021   \n",
       "817253  Degenerate Frobenius manifolds and the bi-Hami...  2020   \n",
       "817254                    Hypercomplex Integrable Systems  2020   \n",
       "817255  Nonlinear Flux Diffusion and ac Susceptibility...  2022   \n",
       "\n",
       "                                                 abstract  length  word_count  \\\n",
       "0         We performed a rigorous theoretical converge...     832         133   \n",
       "1         We present a review of the discrete dipole a...     617          96   \n",
       "2         It is known that every closed curve of lengt...     737         138   \n",
       "3         1 Generalities\\n  2 Empirical diagnostics ba...     181          27   \n",
       "4         We describe the maximal torus and maximal un...     126          21   \n",
       "...                                                   ...     ...         ...   \n",
       "817251    The Hamiltonian structure of the two-dimensi...     436          65   \n",
       "817252    Previous numerical investigations of an one-...     510          69   \n",
       "817253    The bi-Hamiltonian structure of certain mult...     717         101   \n",
       "817254    In this paper we study hypercomplex manifold...     658          99   \n",
       "817255    The ac response of a slab of material with e...     930         139   \n",
       "\n",
       "                                      processed abstracts  \n",
       "0       perform rigorous theoretical convergence analy...  \n",
       "1       present review discrete dipole approximation d...  \n",
       "2       know closed curve length \\leq 4 r^n n>0 surrou...  \n",
       "3       1 generality 2 empirical diagnostic base emiss...  \n",
       "4       describe maximal torus maximal unipotent subgr...  \n",
       "...                                                   ...  \n",
       "817251  hamiltonian structure two-dimensional dispersi...  \n",
       "817252  previous numerical investigation one-dimension...  \n",
       "817253  bi-hamiltonian structure certain multi-compone...  \n",
       "817254  paper study hypercomplex manifold dimension us...  \n",
       "817255  ac response slab material electrodynamic chara...  \n",
       "\n",
       "[817256 rows x 6 columns]"
      ]
     },
     "execution_count": 11,
     "metadata": {},
     "output_type": "execute_result"
    }
   ],
   "source": [
    "df"
   ]
  },
  {
   "cell_type": "code",
   "execution_count": 12,
   "metadata": {},
   "outputs": [],
   "source": [
    "MODEL_URL = \"https://www.kaggle.com/models/google/universal-sentence-encoder/frameworks/TensorFlow2/variations/universal-sentence-encoder/versions/2\"\n",
    "sentence_encoder_layer = hub.KerasLayer(MODEL_URL,\n",
    "                                        input_shape=[],\n",
    "                                        dtype=tf.string,\n",
    "                                        trainable=False,\n",
    "                                        name=\"use\")\n",
    "abstracts = df[\"processed abstracts\"].to_list()"
   ]
  },
  {
   "cell_type": "code",
   "execution_count": 13,
   "metadata": {},
   "outputs": [
    {
     "name": "stdout",
     "output_type": "stream",
     "text": [
      "3.0.9\n"
     ]
    }
   ],
   "source": [
    "from tqdm import tqdm\n",
    "from IPython.utils import io\n",
    "with io.capture_output() as captured:\n",
    "    %pip install https://s3-us-west-2.amazonaws.com/ai2-s2-scispacy/releases/v0.4.0/en_core_sci_lg-0.4.0.tar.gz\n",
    "\n",
    "import spacy\n",
    "from spacy.lang.en.stop_words import STOP_WORDS #import commen list of stopword\n",
    "\n",
    "print(spacy.__version__)\n"
   ]
  },
  {
   "cell_type": "code",
   "execution_count": 14,
   "metadata": {},
   "outputs": [],
   "source": [
    "import en_core_sci_lg"
   ]
  },
  {
   "cell_type": "code",
   "execution_count": 15,
   "metadata": {},
   "outputs": [
    {
     "data": {
      "text/plain": [
       "['or',\n",
       " 'somewhere',\n",
       " 'again',\n",
       " 'almost',\n",
       " 'whether',\n",
       " 'us',\n",
       " 'were',\n",
       " \"n't\",\n",
       " 'just',\n",
       " 'already']"
      ]
     },
     "execution_count": 15,
     "metadata": {},
     "output_type": "execute_result"
    }
   ],
   "source": [
    "import string\n",
    "\n",
    "punctuations = string.punctuation #list of punctuation to remove from text\n",
    "stopwords = list(STOP_WORDS)\n",
    "stopwords[:10]"
   ]
  },
  {
   "cell_type": "code",
   "execution_count": 16,
   "metadata": {},
   "outputs": [],
   "source": [
    "parser = en_core_sci_lg.load()\n",
    "parser.max_length = 7000000\n",
    "\n",
    "def spacy_tokenizer(sentence):\n",
    "    ''' Function to preprocess text of scientific papers \n",
    "        (e.g Removing Stopword and puntuations)'''\n",
    "    mytokens = parser(sentence)\n",
    "    mytokens = [ word.lemma_.lower().strip() if word.lemma_ != \"-PRON-\" else word.lower_ for word in mytokens ] # transform to lowercase and then split the scentence\n",
    "    mytokens = [ word for word in mytokens if word not in stopwords and word not in punctuations ] #remove stopsword an punctuation\n",
    "    mytokens = \" \".join([i for i in mytokens]) \n",
    "    return mytokens"
   ]
  },
  {
   "cell_type": "code",
   "execution_count": null,
   "metadata": {},
   "outputs": [],
   "source": [
    "tqdm.pandas()\n",
    "df[\"processed_abstract\"] = df[\"abstract\"].progress_apply(spacy_tokenizer)"
   ]
  },
  {
   "cell_type": "code",
   "execution_count": 17,
   "metadata": {},
   "outputs": [],
   "source": [
    "# Setup for embeddings computation\n",
    "embeddings = []\n",
    "batch_size = 300\n",
    "num_batches = len(abstracts) // batch_size"
   ]
  },
  {
   "cell_type": "code",
   "execution_count": 18,
   "metadata": {},
   "outputs": [],
   "source": [
    "# Compute Embeddings in batches\n",
    "for i in range(num_batches):\n",
    "    batch_abstracts = abstracts[i*batch_size : (i+1)*batch_size]\n",
    "    batch_embeddings = sentence_encoder_layer(batch_abstracts)\n",
    "    embeddings.extend(batch_embeddings.numpy())\n",
    "\n",
    "# Embeddings for remaining abstracts\n",
    "remaining_abstracts = abstracts[num_batches*batch_size:]\n",
    "if len(remaining_abstracts) > 0:\n",
    "    remaining_embeddings = sentence_encoder_layer(remaining_abstracts)\n",
    "    embeddings.extend(remaining_embeddings.numpy())\n",
    "    \n",
    "embeddings = np.array(embeddings)\n",
    "y = df.index"
   ]
  },
  {
   "cell_type": "code",
   "execution_count": 19,
   "metadata": {},
   "outputs": [
    {
     "data": {
      "text/html": [
       "<style>#sk-container-id-1 {color: black;background-color: white;}#sk-container-id-1 pre{padding: 0;}#sk-container-id-1 div.sk-toggleable {background-color: white;}#sk-container-id-1 label.sk-toggleable__label {cursor: pointer;display: block;width: 100%;margin-bottom: 0;padding: 0.3em;box-sizing: border-box;text-align: center;}#sk-container-id-1 label.sk-toggleable__label-arrow:before {content: \"▸\";float: left;margin-right: 0.25em;color: #696969;}#sk-container-id-1 label.sk-toggleable__label-arrow:hover:before {color: black;}#sk-container-id-1 div.sk-estimator:hover label.sk-toggleable__label-arrow:before {color: black;}#sk-container-id-1 div.sk-toggleable__content {max-height: 0;max-width: 0;overflow: hidden;text-align: left;background-color: #f0f8ff;}#sk-container-id-1 div.sk-toggleable__content pre {margin: 0.2em;color: black;border-radius: 0.25em;background-color: #f0f8ff;}#sk-container-id-1 input.sk-toggleable__control:checked~div.sk-toggleable__content {max-height: 200px;max-width: 100%;overflow: auto;}#sk-container-id-1 input.sk-toggleable__control:checked~label.sk-toggleable__label-arrow:before {content: \"▾\";}#sk-container-id-1 div.sk-estimator input.sk-toggleable__control:checked~label.sk-toggleable__label {background-color: #d4ebff;}#sk-container-id-1 div.sk-label input.sk-toggleable__control:checked~label.sk-toggleable__label {background-color: #d4ebff;}#sk-container-id-1 input.sk-hidden--visually {border: 0;clip: rect(1px 1px 1px 1px);clip: rect(1px, 1px, 1px, 1px);height: 1px;margin: -1px;overflow: hidden;padding: 0;position: absolute;width: 1px;}#sk-container-id-1 div.sk-estimator {font-family: monospace;background-color: #f0f8ff;border: 1px dotted black;border-radius: 0.25em;box-sizing: border-box;margin-bottom: 0.5em;}#sk-container-id-1 div.sk-estimator:hover {background-color: #d4ebff;}#sk-container-id-1 div.sk-parallel-item::after {content: \"\";width: 100%;border-bottom: 1px solid gray;flex-grow: 1;}#sk-container-id-1 div.sk-label:hover label.sk-toggleable__label {background-color: #d4ebff;}#sk-container-id-1 div.sk-serial::before {content: \"\";position: absolute;border-left: 1px solid gray;box-sizing: border-box;top: 0;bottom: 0;left: 50%;z-index: 0;}#sk-container-id-1 div.sk-serial {display: flex;flex-direction: column;align-items: center;background-color: white;padding-right: 0.2em;padding-left: 0.2em;position: relative;}#sk-container-id-1 div.sk-item {position: relative;z-index: 1;}#sk-container-id-1 div.sk-parallel {display: flex;align-items: stretch;justify-content: center;background-color: white;position: relative;}#sk-container-id-1 div.sk-item::before, #sk-container-id-1 div.sk-parallel-item::before {content: \"\";position: absolute;border-left: 1px solid gray;box-sizing: border-box;top: 0;bottom: 0;left: 50%;z-index: -1;}#sk-container-id-1 div.sk-parallel-item {display: flex;flex-direction: column;z-index: 1;position: relative;background-color: white;}#sk-container-id-1 div.sk-parallel-item:first-child::after {align-self: flex-end;width: 50%;}#sk-container-id-1 div.sk-parallel-item:last-child::after {align-self: flex-start;width: 50%;}#sk-container-id-1 div.sk-parallel-item:only-child::after {width: 0;}#sk-container-id-1 div.sk-dashed-wrapped {border: 1px dashed gray;margin: 0 0.4em 0.5em 0.4em;box-sizing: border-box;padding-bottom: 0.4em;background-color: white;}#sk-container-id-1 div.sk-label label {font-family: monospace;font-weight: bold;display: inline-block;line-height: 1.2em;}#sk-container-id-1 div.sk-label-container {text-align: center;}#sk-container-id-1 div.sk-container {/* jupyter's `normalize.less` sets `[hidden] { display: none; }` but bootstrap.min.css set `[hidden] { display: none !important; }` so we also need the `!important` here to be able to override the default hidden behavior on the sphinx rendered scikit-learn.org. See: https://github.com/scikit-learn/scikit-learn/issues/21755 */display: inline-block !important;position: relative;}#sk-container-id-1 div.sk-text-repr-fallback {display: none;}</style><div id=\"sk-container-id-1\" class=\"sk-top-container\"><div class=\"sk-text-repr-fallback\"><pre>KNeighborsClassifier(n_neighbors=6)</pre><b>In a Jupyter environment, please rerun this cell to show the HTML representation or trust the notebook. <br />On GitHub, the HTML representation is unable to render, please try loading this page with nbviewer.org.</b></div><div class=\"sk-container\" hidden><div class=\"sk-item\"><div class=\"sk-estimator sk-toggleable\"><input class=\"sk-toggleable__control sk-hidden--visually\" id=\"sk-estimator-id-1\" type=\"checkbox\" checked><label for=\"sk-estimator-id-1\" class=\"sk-toggleable__label sk-toggleable__label-arrow\">KNeighborsClassifier</label><div class=\"sk-toggleable__content\"><pre>KNeighborsClassifier(n_neighbors=6)</pre></div></div></div></div></div>"
      ],
      "text/plain": [
       "KNeighborsClassifier(n_neighbors=6)"
      ]
     },
     "execution_count": 19,
     "metadata": {},
     "output_type": "execute_result"
    }
   ],
   "source": [
    "nn = KNeighborsClassifier(n_neighbors=6)\n",
    "nn.fit(embeddings,y)"
   ]
  },
  {
   "cell_type": "code",
   "execution_count": 20,
   "metadata": {},
   "outputs": [],
   "source": [
    "def calculate_user_embedding(user_title):\n",
    "    user_abstract = sentence_encoder_layer([user_title])\n",
    "    return user_abstract.numpy()\n",
    "\n",
    "\n",
    "def find_similar_papers(user_embeddings, k=5):\n",
    "    dist, indices = nn.kneighbors(X=user_embeddings, n_neighbors=k)\n",
    "    similar_paper_embeddings = embeddings[indices[0]]\n",
    "    similar_paper_titles = df['title'].iloc[indices[0]].tolist()\n",
    "    print(\"Titles: \", similar_paper_titles)\n",
    "    print(\"Distances: \", dist)\n",
    "    return indices[0], similar_paper_embeddings, dist, similar_paper_titles"
   ]
  },
  {
   "cell_type": "code",
   "execution_count": 21,
   "metadata": {},
   "outputs": [],
   "source": [
    "model_info = {\"model\": nn}\n",
    "embeddings_info = {\"embeddings\": embeddings}\n",
    "\n",
    "with open(\"model.pkl\", 'wb') as file:\n",
    "    dill.dump(model_info, file)\n",
    "\n",
    "with open(\"embeddings.pkl\", 'wb') as file:\n",
    "    dill.dump(embeddings_info, file)\n",
    "    \n",
    "df.to_csv(\"data.csv\", index=False)"
   ]
  },
  {
   "cell_type": "code",
   "execution_count": 22,
   "metadata": {},
   "outputs": [
    {
     "name": "stdout",
     "output_type": "stream",
     "text": [
      "Processed user abstract:  large language model llm demonstrate impressive capability natural language processing internal mechanism unclear lack transparency pose unwanted risk downstream application understanding explain model crucial elucidate behavior limitation social impact paper introduce taxonomy explainability technique provide structured overview method explain transformer-based language model categorize technique base training paradigm llm traditional fine-tuning-based paradigm prompting-based paradigm paradigm summarize goal dominant approach generate local explanation individual prediction global explanation overall model knowledge discuss metric evaluate generate explanation discuss explanation leverage debug model improve performance lastly examine key challenge emerge opportunity explanation technique era llm comparison conventional machine learning model\n",
      "user_embeddings:  (1, 512)\n",
      "Titles:  ['Explainability for Large Language Models: A Survey', 'Towards Interpretable Deep Reinforcement Learning Models via Inverse\\n  Reinforcement Learning', 'Counterfactuals of Counterfactuals: a back-translation-inspired approach\\n  to analyse counterfactual editors', 'LIMEtree: Consistent and Faithful Surrogate Explanations of Multiple\\n  Classes', 'Explain and Predict, and then Predict Again']\n",
      "Distances:  [[4.62296368e-07 6.61742973e-01 6.75025341e-01 6.76270567e-01\n",
      "  6.81158797e-01]]\n",
      "similar_paper_combined_embeddings:  (5, 512)\n",
      "Recommendation 1:\n",
      "Explainability for Large Language Models: A Survey\n",
      "\n",
      "Recommendation 2:\n",
      "Towards Interpretable Deep Reinforcement Learning Models via Inverse\n",
      "  Reinforcement Learning\n",
      "\n",
      "Recommendation 3:\n",
      "Counterfactuals of Counterfactuals: a back-translation-inspired approach\n",
      "  to analyse counterfactual editors\n",
      "\n",
      "Recommendation 4:\n",
      "LIMEtree: Consistent and Faithful Surrogate Explanations of Multiple\n",
      "  Classes\n",
      "\n",
      "Recommendation 5:\n",
      "Explain and Predict, and then Predict Again\n",
      "\n"
     ]
    },
    {
     "data": {
      "image/png": "[encoded data removed]",
      "text/plain": [
       "<Figure size 432x288 with 1 Axes>"
      ]
     },
     "metadata": {
      "needs_background": "light"
     },
     "output_type": "display_data"
    },
    {
     "name": "stdout",
     "output_type": "stream",
     "text": [
      "Cosine Similarities: [[1.0000001  0.78104824 0.77217036 0.77132905 0.7680114 ]]\n"
     ]
    }
   ],
   "source": [
    "user_title = \"Explainability for Large Language Models: A Survey\"\n",
    "user_abstract = \"Large language models (LLMs) have demonstrated impressive capabilities in natural language processing. However, their internal mechanisms are still unclear and this lack of transparency poses unwanted risks for downstream applications. Therefore, understanding and explaining these models is crucial for elucidating their behaviors, limitations, and social impacts. In this paper, we introduce a taxonomy of explainability techniques and provide a structured overview of methods for explaining Transformer-based language models. We categorize techniques based on the training paradigms of LLMs: traditional fine-tuning-based paradigm and prompting-based paradigm. For each paradigm, we summarize the goals and dominant approaches for generating local explanations of individual predictions and global explanations of overall model knowledge. We also discuss metrics for evaluating generated explanations, and discuss how explanations can be leveraged to debug models and improve performance. Lastly, we examine key challenges and emerging opportunities for explanation techniques in the era of LLMs in comparison to conventional machine learning models.\"\n",
    "user_abstract_processed = spacy_tokenizer(user_abstract)\n",
    "print(\"Processed user abstract: \", user_abstract_processed)\n",
    "user_embeddings = calculate_user_embedding(user_abstract_processed)\n",
    "print(\"user_embeddings: \", user_embeddings.shape)\n",
    "similar_paper_indices, similar_paper_embeddings, distances, similar_paper_titles = find_similar_papers(user_embeddings)\n",
    "\n",
    "# Assuming title embeddings start at index 0 and abstract embeddings start at index 512\n",
    "title_embeddings = similar_paper_embeddings[:, :512]\n",
    "abstract_embeddings = similar_paper_embeddings[:, 512:]\n",
    "\n",
    "# Concatenate title and abstract embeddings\n",
    "similar_paper_combined_embeddings = np.concatenate([title_embeddings, abstract_embeddings], axis=1)\n",
    "print(\"similar_paper_combined_embeddings: \", similar_paper_combined_embeddings.shape)\n",
    "\n",
    "for i, idx in enumerate(similar_paper_indices):\n",
    "    recommended_paper = df['title'][idx]\n",
    "    print(f\"Recommendation {i + 1}:\\n{recommended_paper}\\n\")\n",
    "\n",
    "\n",
    "'''-------------------------- Scatter Plot ----------------------------'''\n",
    "\n",
    "from sklearn.manifold import TSNE\n",
    "\n",
    "def visualize_similar_papers(user_embeddings, similar_paper_embeddings, similar_paper_titles, distances):\n",
    "    # Combine user embeddings and similar paper embeddings\n",
    "    all_embeddings = np.concatenate([user_embeddings, similar_paper_embeddings])\n",
    "\n",
    "    # Use t-SNE for dimensionality reduction\n",
    "    tsne = TSNE(n_components=2, perplexity=5, random_state=42)\n",
    "    embeddings_2d = tsne.fit_transform(all_embeddings)\n",
    "\n",
    "    # Separate user and paper embeddings\n",
    "    user_embedding_2d = embeddings_2d[0].reshape(1, -1)\n",
    "    paper_embeddings_2d = embeddings_2d[1:]\n",
    "\n",
    "    # Visualize user and similar paper embeddings\n",
    "    plt.scatter(user_embedding_2d[:, 0], user_embedding_2d[:, 1], color='red', label='User')\n",
    "\n",
    "    # Annotate user point with the user index and distance\n",
    "    plt.annotate(f\"User ({similar_paper_indices[0]})\", \n",
    "                 (user_embedding_2d[:, 0], user_embedding_2d[:, 1]),\n",
    "                 textcoords=\"offset points\", xytext=(0,10), ha='center', fontsize=8, color='red')\n",
    "\n",
    "    plt.scatter(paper_embeddings_2d[:, 0], paper_embeddings_2d[:, 1], color='blue', label='Similar Papers')\n",
    "\n",
    "    # Annotate points with paper indices\n",
    "    for i, (index, distance) in enumerate(zip(similar_paper_titles, distances[0])):\n",
    "        plt.annotate(f\"Recommendation {i+1}\\nDistance: {distance:.2f}\", \n",
    "                     (paper_embeddings_2d[i, 0], paper_embeddings_2d[i, 1]),\n",
    "                     textcoords=\"offset points\", xytext=(0,10), ha='center', fontsize=8, color='blue')\n",
    "\n",
    "    plt.title('Similar Papers Visualization')\n",
    "    plt.legend()\n",
    "    plt.show()\n",
    "\n",
    "visualize_similar_papers(user_embeddings, similar_paper_embeddings, similar_paper_titles, distances)\n",
    "\n",
    "'''-------------------- Cosine Similarity ---------------------'''\n",
    "\n",
    "from sklearn.metrics.pairwise import cosine_similarity\n",
    "\n",
    "similarities = cosine_similarity(user_embeddings, similar_paper_combined_embeddings)\n",
    "print(\"Cosine Similarities:\", similarities)"
   ]
  },
  {
   "cell_type": "code",
   "execution_count": 23,
   "metadata": {},
   "outputs": [
    {
     "data": {
      "image/png": "[encoded data removed]",
      "text/plain": [
       "<Figure size 432x288 with 2 Axes>"
      ]
     },
     "metadata": {
      "needs_background": "light"
     },
     "output_type": "display_data"
    }
   ],
   "source": [
    "import seaborn as sns\n",
    "import matplotlib.pyplot as plt\n",
    "\n",
    "# Assuming similarities is the array of cosine similarity scores\n",
    "# (shape: (1, num_recommendations))\n",
    "\n",
    "# Convert the similarities array to a 1D array\n",
    "similarity_scores = similarities.flatten()\n",
    "\n",
    "# Plot the heatmap\n",
    "sns.heatmap([similarity_scores], annot=True, cmap=\"YlGnBu\", xticklabels=similar_paper_titles,\n",
    "            yticklabels=[\"User\"], cbar_kws={'label': 'Cosine Similarity'})\n",
    "\n",
    "plt.title('Cosine Similarity Between User Abstract and Recommended Papers')\n",
    "plt.show()"
   ]
  }
 ],
 "metadata": {
  "kernelspec": {
   "display_name": "cs224n",
   "language": "python",
   "name": "python3"
  },
  "language_info": {
   "codemirror_mode": {
    "name": "ipython",
    "version": 3
   },
   "file_extension": ".py",
   "mimetype": "text/x-python",
   "name": "python",
   "nbconvert_exporter": "python",
   "pygments_lexer": "ipython3",
   "version": "3.10.1"
  }
 },
 "nbformat": 4,
 "nbformat_minor": 2
}
